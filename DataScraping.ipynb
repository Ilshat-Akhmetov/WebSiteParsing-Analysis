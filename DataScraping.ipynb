{
 "cells": [
  {
   "cell_type": "code",
   "execution_count": 1,
   "id": "threaded-biology",
   "metadata": {
    "ExecuteTime": {
     "end_time": "2022-09-15T07:08:29.428196Z",
     "start_time": "2022-09-15T07:08:28.011198Z"
    }
   },
   "outputs": [],
   "source": [
    "import requests\n",
    "from bs4 import BeautifulSoup\n",
    "import re\n",
    "import pandas as pd"
   ]
  },
  {
   "cell_type": "code",
   "execution_count": 2,
   "id": "fifteen-blast",
   "metadata": {
    "ExecuteTime": {
     "end_time": "2022-09-15T07:08:29.444108Z",
     "start_time": "2022-09-15T07:08:29.431094Z"
    }
   },
   "outputs": [],
   "source": [
    "def get_raw_html(url: str) -> any:\n",
    "    response = requests.get(url)\n",
    "    response.encoding='utf-8'\n",
    "    return response"
   ]
  },
  {
   "cell_type": "code",
   "execution_count": 3,
   "id": "regulated-costa",
   "metadata": {
    "ExecuteTime": {
     "end_time": "2022-09-15T07:08:31.671387Z",
     "start_time": "2022-09-15T07:08:29.447092Z"
    }
   },
   "outputs": [],
   "source": [
    "city = \"ufa\"\n",
    "car_name = \"vaz\"\n",
    "url_basic = \"https://auto.ru/{}/cars/{}/all/?query=%D0%B2%D0%B0%D0%B7&from=searchline\".format(city, car_name)\n",
    "response = get_raw_html(url_basic)"
   ]
  },
  {
   "cell_type": "code",
   "execution_count": 4,
   "id": "varying-election",
   "metadata": {
    "ExecuteTime": {
     "end_time": "2022-09-15T07:08:31.937396Z",
     "start_time": "2022-09-15T07:08:31.674390Z"
    }
   },
   "outputs": [],
   "source": [
    "bs_obj = BeautifulSoup(response.text, 'html.parser')"
   ]
  },
  {
   "cell_type": "code",
   "execution_count": 5,
   "id": "optical-sessions",
   "metadata": {
    "ExecuteTime": {
     "end_time": "2022-09-15T07:08:32.031413Z",
     "start_time": "2022-09-15T07:08:31.939400Z"
    }
   },
   "outputs": [],
   "source": [
    "page_numbers = bs_obj.select('.ListingPagination__page')\n",
    "count_pages = max([int(nth_page.get_text()) for nth_page in page_numbers if nth_page.get_text().isdigit()])"
   ]
  },
  {
   "cell_type": "code",
   "execution_count": 6,
   "id": "prepared-record",
   "metadata": {
    "ExecuteTime": {
     "end_time": "2022-09-15T07:08:32.047404Z",
     "start_time": "2022-09-15T07:08:32.035404Z"
    }
   },
   "outputs": [],
   "source": [
    "max_n_pages = 100\n",
    "max_n_pages = min(max_n_pages, count_pages)"
   ]
  },
  {
   "cell_type": "code",
   "execution_count": 7,
   "id": "starting-oakland",
   "metadata": {
    "ExecuteTime": {
     "end_time": "2022-09-15T07:08:32.078405Z",
     "start_time": "2022-09-15T07:08:32.050406Z"
    }
   },
   "outputs": [
    {
     "data": {
      "text/plain": [
       "52"
      ]
     },
     "execution_count": 7,
     "metadata": {},
     "output_type": "execute_result"
    }
   ],
   "source": [
    "max_n_pages"
   ]
  },
  {
   "cell_type": "code",
   "execution_count": 8,
   "id": "lasting-graduate",
   "metadata": {
    "ExecuteTime": {
     "end_time": "2022-09-15T07:08:32.109406Z",
     "start_time": "2022-09-15T07:08:32.083409Z"
    }
   },
   "outputs": [],
   "source": [
    "def clean_str(str_expr: str) -> str:\n",
    "    return re.sub(r'\\u2009|\\xa0','',str_expr)\n",
    "\n",
    "def add_record(df: dict, item) -> None:\n",
    "    name = item.select('.ListingItemTitle__link')[0].get_text()\n",
    "    df['Name'].append(name)\n",
    "    url = item.select('.ListingItemTitle__link')[0].get('href')\n",
    "    df['URL'].append(url)\n",
    "    price = clean_str(item.select('.ListingItemPrice__content')[0].get_text())\n",
    "    price = price.replace('₽','')\n",
    "    df['Price, rub'].append(price)\n",
    "    year = item.select('.ListingItem__year')[0].get_text()\n",
    "    df['Year'].append(year)\n",
    "    kmAge = clean_str(item.select('.ListingItem__kmAge')[0].get_text())\n",
    "    kmAge = kmAge.replace('км','')\n",
    "    df['KmAge'].append(kmAge)\n",
    "    chrts = chrts = item.select('.ListingItemTechSummaryDesktop__column')[0].select('.ListingItemTechSummaryDesktop__cell')\n",
    "    engine = clean_str(chrts[0].get_text())\n",
    "    gearBox = clean_str(chrts[1].get_text())\n",
    "    carType= clean_str(chrts[2].get_text())\n",
    "    df['Engine'].append(engine)\n",
    "    df['GearBox'].append(gearBox)\n",
    "    df['CarType'].append(carType)\n",
    "    place = clean_str(item.select('.MetroListPlace__regionName')[0].get_text())\n",
    "    df['Place'].append(place)\n",
    "    "
   ]
  },
  {
   "cell_type": "code",
   "execution_count": 9,
   "id": "understanding-bobby",
   "metadata": {
    "ExecuteTime": {
     "end_time": "2022-09-15T07:10:32.885688Z",
     "start_time": "2022-09-15T07:08:32.112408Z"
    }
   },
   "outputs": [],
   "source": [
    "data = {'Name' : [], 'URL': [], 'Price, rub': [], 'Year': [], 'KmAge': [], 'Engine': [], 'GearBox': [], 'CarType': [],\n",
    "       'Place': []}\n",
    "\n",
    "for page_number in range(1, max_n_pages + 1):\n",
    "    url_page_nth = (\"https://auto.ru/{}/cars/{}/all/?query=%D0%BB%D0%B0%D0%B4%D0%B0&from=searchline&page={}\".\n",
    "        format(city, car_name, page_number))\n",
    "    response = get_raw_html(url_page_nth)\n",
    "    bs_obj = BeautifulSoup(response.text, 'html.parser')\n",
    "    items = bs_obj.select('.ListingItem__description')\n",
    "    for item in items:\n",
    "        add_record(data, item)"
   ]
  },
  {
   "cell_type": "code",
   "execution_count": 11,
   "id": "steady-venice",
   "metadata": {
    "ExecuteTime": {
     "end_time": "2022-09-15T07:11:32.550748Z",
     "start_time": "2022-09-15T07:11:32.523726Z"
    }
   },
   "outputs": [],
   "source": [
    "data_df = pd.DataFrame.from_dict(data)\n",
    "data_df.to_csv('parsed_data.csv',encoding='cp1251',index=False)"
   ]
  },
  {
   "cell_type": "code",
   "execution_count": null,
   "id": "nearby-portsmouth",
   "metadata": {},
   "outputs": [],
   "source": []
  }
 ],
 "metadata": {
  "kernelspec": {
   "display_name": "MainEnv",
   "language": "python",
   "name": "mainenv"
  },
  "language_info": {
   "codemirror_mode": {
    "name": "ipython",
    "version": 3
   },
   "file_extension": ".py",
   "mimetype": "text/x-python",
   "name": "python",
   "nbconvert_exporter": "python",
   "pygments_lexer": "ipython3",
   "version": "3.8.7"
  }
 },
 "nbformat": 4,
 "nbformat_minor": 5
}
